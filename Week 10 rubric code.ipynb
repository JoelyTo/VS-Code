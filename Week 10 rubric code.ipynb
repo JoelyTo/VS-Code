{
 "cells": [
  {
   "cell_type": "code",
   "execution_count": null,
   "metadata": {},
   "outputs": [],
   "source": [
    "import numpy as np\n",
    "import matplotlib.pyplot as plt\n",
    "from itertools import count\n",
    "from collections import namedtuple\n",
    "from termcolor import colored\n",
    "import sympy as sp\n",
    "from math import ceil, floor, log10, sqrt"
   ]
  },
  {
   "cell_type": "code",
   "execution_count": null,
   "metadata": {},
   "outputs": [],
   "source": [
    "Step  = namedtuple(\"Step\", [\"dx\", \"dy\"])\n",
    "RIGHT = Step(1, 0)\n",
    "UP    = Step(0, -1)\n",
    "LEFT  = Step(-1, 0)\n",
    "DOWN  = Step(0, 1)\n",
    "\n",
    "whiteSquare = colored(u\"\\u2588\",'white')\n",
    "blueSquare = colored(u\"\\u2588\",'blue')"
   ]
  },
  {
   "cell_type": "markdown",
   "metadata": {},
   "source": [
    "<h1> Let's extend the original spiral </h1>\n"
   ]
  },
  {
   "cell_type": "code",
   "execution_count": null,
   "metadata": {},
   "outputs": [],
   "source": [
    "def steps_from_middle():\n",
    "    for n in count(start=1):\n",
    "        if n % 2:\n",
    "            yield RIGHT\n",
    "            for i in range(n):\n",
    "                yield UP\n",
    "            for i in range(n):\n",
    "                yield LEFT\n",
    "        else:\n",
    "            yield LEFT\n",
    "            for i in range(n):\n",
    "                yield DOWN\n",
    "            for i in range(n):\n",
    "                yield RIGHT"
   ]
  },
  {
   "cell_type": "code",
   "execution_count": null,
   "metadata": {},
   "outputs": [],
   "source": [
    "max_i = int(input(\"What number do you want to go up to? \"))\n",
    "\n",
    "# find out how many digits are in the largest number\n",
    "max_i_width = int(floor(log10(max_i))) + 1\n",
    "\n",
    "# {{:>{}}} will make every item the same width \n",
    "def output(item, format_string=\"{{:>{}}}\".format(max_i_width)):\n",
    "    return format_string.format(item)\n",
    "\n",
    "EMPTY = output(\"\")\n",
    "\n",
    "# what is the size of the square?\n",
    "max_n = int(ceil(sqrt(max_i)))\n",
    "\n",
    "# preparing the data\n",
    "square = [[EMPTY] * max_n for _ in range(max_n)]\n",
    "\n",
    "# putting 1 as our starting point in the middle of the spiral \n",
    "x = y = max_n // 2\n",
    "square[y][x] = str(int(output(1)))"
   ]
  },
  {
   "cell_type": "code",
   "execution_count": null,
   "metadata": {},
   "outputs": [],
   "source": [
    "for i, step in enumerate(steps_from_middle(), start=2):\n",
    "    if i > max_i:\n",
    "        break\n",
    "    else:\n",
    "        x += step.dx\n",
    "        y += step.dy\n",
    "        square[y][x] = str(int(output(i)))"
   ]
  },
  {
   "cell_type": "code",
   "execution_count": null,
   "metadata": {},
   "outputs": [],
   "source": [
    "print(\"\\n\".join(\" \".join(row) for row in square))"
   ]
  },
  {
   "cell_type": "markdown",
   "metadata": {},
   "source": [
    "<h1> Prime Spiral Investigation </h1>\n"
   ]
  },
  {
   "cell_type": "code",
   "execution_count": null,
   "metadata": {},
   "outputs": [],
   "source": [
    "max_i = int(input(\"What number do you want to go up to? \"))\n",
    "\n",
    "# find out how many digits are in the largest number\n",
    "max_i_width = int(floor(log10(max_i))) + 1\n",
    "\n",
    "# {{:>{}}} will make every item the same width \n",
    "def output(item, format_string=\"{{:>{}}}\".format(max_i_width)):\n",
    "    return format_string.format(item)\n",
    "\n",
    "EMPTY = output(\"\")\n",
    "\n",
    "# what is the size of the square?\n",
    "max_n = int(ceil(sqrt(max_i)))\n",
    "\n",
    "# preparing the data\n",
    "square = [[EMPTY] * max_n for _ in range(max_n)]\n",
    "\n",
    "# putting 1 as our starting point in the middle of the spiral \n",
    "x = y = max_n // 2\n",
    "\n",
    "# adding the prime colour coding, with prime numbers white\n",
    "if(sp.isprime(int(output(1)))):   \n",
    "    square[y][x] = str(redSquare)\n",
    "else:\n",
    "    square[y][x] = str(blueSquare)\n",
    "    \n",
    "for i, step in enumerate(steps_from_middle(), start=2):\n",
    "    if i > max_i:\n",
    "        break\n",
    "    else:\n",
    "        x += step.dx\n",
    "        y += step.dy\n",
    "        square[y][x] = str(int(output(i)))\n",
    "    if(sp.isprime(int(output(i)))):   \n",
    "        square[y][x] = whiteSquare \n",
    "    else:\n",
    "        square[y][x] = blueSquare\n",
    "        \n",
    "    print(\"\\n\".join(\" \".join(row) for row in square))"
   ]
  },
  {
   "cell_type": "markdown",
   "metadata": {},
   "source": [
    "<h1> Spiral with Modular Arithmetic </h1>"
   ]
  },
  {
   "cell_type": "code",
   "execution_count": null,
   "metadata": {},
   "outputs": [],
   "source": [
    "max_i = int(input(\"What number do you want to go up to? \"))\n",
    "max_i_width = int(floor(log10(max_i))) + 1\n",
    "prime = 17\n",
    "\n",
    "def output(item, format_string=\"{{:>{}}}\".format(max_i_width)):\n",
    "    return format_string.format(item)\n",
    "\n",
    "EMPTY = output(\"\")\n",
    "\n",
    "max_n = int(ceil(sqrt(max_i)))\n",
    "square = [[EMPTY] * max_n for _ in range(max_n)]\n",
    "x = y = max_n // 2\n",
    "\n",
    "if(sp.isprime(int(output(1)))):   \n",
    "    square[y][x] = str(whiteSquare)\n",
    "else:\n",
    "    square[y][x] = str(blueSquare)\n",
    "\n",
    "for i, step in enumerate(steps_from_middle(), start=2):\n",
    "    if i > max_i:\n",
    "        break\n",
    "    else:\n",
    "        x += step.dx\n",
    "        y += step.dy\n",
    "    if(int(output(i)) % prime == 0):   \n",
    "        square[y][x] = whiteSquare \n",
    "    else:\n",
    "        square[y][x] = blueSquare\n",
    "\n",
    "print(\"\\n\".join(\" \".join(row) for row in square))"
   ]
  },
  {
   "cell_type": "markdown",
   "metadata": {},
   "source": [
    "<h1> Extension: Trying Spirals of Different Sequences </h1>"
   ]
  },
  {
   "cell_type": "code",
   "execution_count": null,
   "metadata": {},
   "outputs": [],
   "source": [
    "max_i = int(input(\"What number do you want to display up to? \"))\n",
    "max_i_width = int(floor(log10(max_i))) + 1\n",
    "\n",
    "def output(item, format_string=\"{{:>{}}}\".format(max_i_width)):\n",
    "    return format_string.format(item)\n",
    "\n",
    "EMPTY = output(\"\")\n",
    "\n",
    "max_n = int(ceil(sqrt(max_i)))\n",
    "square = [[EMPTY] * max_n for _ in range(max_n)]\n",
    "\n",
    "x = y = max_n // 2\n",
    "square[y][x] = output(1)\n",
    "no = 0\n",
    "\n",
    "for i, step in enumerate(steps_from_middle(), start=2):\n",
    "    if i > max_i:\n",
    "        break\n",
    "    else:\n",
    "        no += i\n",
    "        x += step.dx\n",
    "        y += step.dy\n",
    "    square[y][x] = output(no)\n",
    "\n",
    "print(\"\\n\".join(\" \".join(row) for row in square))"
   ]
  },
  {
   "cell_type": "markdown",
   "metadata": {},
   "source": [
    "<h1> Exploring placement of primes in this new-sequence spiral </h1>"
   ]
  },
  {
   "cell_type": "code",
   "execution_count": null,
   "metadata": {},
   "outputs": [],
   "source": [
    "max_i = int(input(\"What number do you want to display up to? \"))\n",
    "max_i_width = int(floor(log10(max_i))) + 1\n",
    "\n",
    "def output(item, format_string=\"{{:>{}}}\".format(max_i_width)):\n",
    "    return format_string.format(item)\n",
    "\n",
    "EMPTY = output(\"\")\n",
    "\n",
    "max_n = int(ceil(sqrt(max_i)))\n",
    "square = [[EMPTY] * max_n for _ in range(max_n)]\n",
    "\n",
    "x = y = max_n // 2\n",
    "square[y][x] = output(1)\n",
    "no = 0\n",
    "\n",
    "for i, step in enumerate(steps_from_middle(), start=2):\n",
    "    if i > max_i:\n",
    "        break\n",
    "    else:\n",
    "        no += i\n",
    "        x += step.dx\n",
    "        y += step.dy\n",
    "    square[y][x] = output(i)\n",
    "    \n",
    "    if(sp.isprime(int(output(i)))):   \n",
    "        square[y][x] = whiteSquare\n",
    "    else:\n",
    "        square[y][x] = blueSquare\n",
    "\n",
    "print(\"\\n\".join(\" \".join(row) for row in square))"
   ]
  }
 ],
 "metadata": {
  "kernelspec": {
   "display_name": "obb",
   "language": "python",
   "name": "python3"
  },
  "language_info": {
   "codemirror_mode": {
    "name": "ipython",
    "version": 3
   },
   "file_extension": ".py",
   "mimetype": "text/x-python",
   "name": "python",
   "nbconvert_exporter": "python",
   "pygments_lexer": "ipython3",
   "version": "3.12.1"
  },
  "orig_nbformat": 4
 },
 "nbformat": 4,
 "nbformat_minor": 2
}
